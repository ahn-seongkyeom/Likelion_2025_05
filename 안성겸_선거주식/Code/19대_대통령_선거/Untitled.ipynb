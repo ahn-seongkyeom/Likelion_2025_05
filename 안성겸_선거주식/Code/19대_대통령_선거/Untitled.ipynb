{
 "cells": [
  {
   "cell_type": "code",
   "execution_count": null,
   "id": "8510af1e-4ac3-42cc-b462-eda18ee705e5",
   "metadata": {},
   "outputs": [],
   "source": []
  }
 ],
 "metadata": {
  "kernelspec": {
   "display_name": "",
   "name": ""
  },
  "language_info": {
   "name": ""
  }
 },
 "nbformat": 4,
 "nbformat_minor": 5
}
